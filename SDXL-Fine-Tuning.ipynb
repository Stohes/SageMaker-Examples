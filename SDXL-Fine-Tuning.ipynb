{
 "cells": [
  {
   "cell_type": "code",
   "execution_count": null,
   "metadata": {
    "vscode": {
     "languageId": "shellscript"
    }
   },
   "outputs": [],
   "source": [
    "# Install a separate conda installation via Miniconda\n",
    "WORKING_DIR=/home/ec2-user/SageMaker\n",
    "mkdir -p \"$WORKING_DIR\"\n",
    "wget https://repo.anaconda.com/miniconda/Miniconda3-py310_23.5.2-0-Linux-x86_64.sh -O \"$WORKING_DIR/miniconda.sh\"\n",
    "bash \"$WORKING_DIR/miniconda.sh\" -b -u -p \"$WORKING_DIR/miniconda\" \n",
    "rm -rf \"$WORKING_DIR/miniconda.sh\""
   ]
  },
  {
   "cell_type": "code",
   "execution_count": null,
   "metadata": {
    "vscode": {
     "languageId": "shellscript"
    }
   },
   "outputs": [],
   "source": [
    "# Create a custom conda environment\n",
    "source \"$WORKING_DIR/miniconda/bin/activate\"\n",
    "KERNEL_NAME=\"diffusers\"\n",
    "PYTHON=\"3.10\"\n",
    "conda create --yes --name \"$KERNEL_NAME\" python=\"$PYTHON\"\n",
    "conda activate \"$KERNEL_NAME\"\n",
    "pip install --quiet ipykernel"
   ]
  },
  {
   "cell_type": "code",
   "execution_count": null,
   "metadata": {
    "vscode": {
     "languageId": "shellscript"
    }
   },
   "outputs": [],
   "source": [
    "cd SageMaker\n",
    "git clone https://github.com/huggingface/diffusers\n",
    "cd diffusers\n",
    "pip install -e .\n",
    "cd /home/ec2-user/SageMaker"
   ]
  },
  {
   "cell_type": "code",
   "execution_count": null,
   "metadata": {
    "vscode": {
     "languageId": "shellscript"
    }
   },
   "outputs": [],
   "source": [
    "pip install torch==2.0.1\n",
    "pip install accelerate==0.30.0\n",
    "pip install torchvision\n",
    "pip install transformers==4.44.0\n",
    "pip install ftfy\n",
    "pip install tensorboard\n",
    "pip install Jinja2\n",
    "pip install peft==0.7.0\n",
    "pip install xformers==0.0.20\n",
    "pip install bitsandbytes\n",
    "pip install scipy\n",
    "pip install numpy==1.26.4"
   ]
  },
  {
   "cell_type": "code",
   "execution_count": null,
   "metadata": {
    "vscode": {
     "languageId": "shellscript"
    }
   },
   "outputs": [],
   "source": [
    "accelerate config default"
   ]
  },
  {
   "cell_type": "code",
   "execution_count": null,
   "metadata": {
    "vscode": {
     "languageId": "shellscript"
    }
   },
   "outputs": [],
   "source": [
    "cd /home/ubuntu\n",
    "mkdir dog-example\n",
    "\n",
    "# Download dog-example dataset from Hugging Face\n",
    "cat > download-dog-example.py << EOF\n",
    "from huggingface_hub import snapshot_download\n",
    "\n",
    "local_dir = \"./dog-example\"\n",
    "snapshot_download(\n",
    "    \"diffusers/dog-example\",\n",
    "    local_dir=local_dir, repo_type=\"dataset\",\n",
    "    ignore_patterns=\".gitattributes\",\n",
    ")\n",
    "EOF\n",
    "\n",
    "python download-dog-example.py"
   ]
  },
  {
   "cell_type": "code",
   "execution_count": null,
   "metadata": {
    "vscode": {
     "languageId": "shellscript"
    }
   },
   "outputs": [],
   "source": [
    "cd /home/ec2-user/SageMaker\n",
    "wget https://raw.githubusercontent.com/huggingface/diffusers/main/examples/dreambooth/train_dreambooth_lora_sdxl.py"
   ]
  },
  {
   "cell_type": "code",
   "execution_count": null,
   "metadata": {
    "vscode": {
     "languageId": "shellscript"
    }
   },
   "outputs": [],
   "source": [
    "accelerate launch train_dreambooth_lora_sdxl.py \\\n",
    "  --pretrained_model_name_or_path=\"stabilityai/stable-diffusion-xl-base-1.0\" \\\n",
    "  --instance_data_dir=\"dog_example\" \\\n",
    "  --output_dir=\"lora-trained-xl\" \\\n",
    "  --mixed_precision=\"fp16\" \\\n",
    "  --instance_prompt=\"a photo of sks dog\" \\\n",
    "  --resolution=1024 \\\n",
    "  --train_batch_size=2 \\\n",
    "  --gradient_accumulation_steps=2 \\\n",
    "  --gradient_checkpointing \\\n",
    "  --learning_rate=1e-4 \\\n",
    "  --lr_scheduler=\"constant\" \\\n",
    "  --lr_warmup_steps=0 \\\n",
    "  --use_8bit_adam \\\n",
    "  --max_train_steps=500 \\\n",
    "  --checkpointing_steps=717 \\\n",
    "  --seed=\"0\""
   ]
  },
  {
   "cell_type": "code",
   "execution_count": null,
   "metadata": {},
   "outputs": [],
   "source": [
    "# sdxl-lora-inference-base.py\n",
    "from diffusers import DiffusionPipeline\n",
    "import torch\n",
    "\n",
    "pipe = DiffusionPipeline.from_pretrained(\n",
    "    \"stabilityai/stable-diffusion-xl-base-1.0\",\n",
    "    torch_dtype=torch.float16\n",
    ")\n",
    "pipe = pipe.to(\"cuda\")\n",
    "pipe.load_lora_weights(\n",
    "    \"lora-trained-xl/\", \n",
    "    weight_name=\"pytorch_lora_weights.safetensors\"\n",
    ")\n",
    "\n",
    "prompt = \"a photo of sks dog in a bucket\"\n",
    "\n",
    "for seed in range(4):\n",
    "    generator = torch.Generator(\"cuda\").manual_seed(seed)\n",
    "    image = pipe(prompt=prompt, generator=generator, num_inference_steps=25)\n",
    "    image = image.images[0]\n",
    "    image.save(f\"sdxl-base-{seed}.png\")"
   ]
  },
  {
   "cell_type": "code",
   "execution_count": null,
   "metadata": {},
   "outputs": [],
   "source": [
    "# sdxl-lora-inference-base-refiner.py\n",
    "from diffusers import DiffusionPipeline, StableDiffusionXLImg2ImgPipeline\n",
    "import torch\n",
    "\n",
    "# Load the base pipeline and load the LoRA parameters into it.\n",
    "pipe = DiffusionPipeline.from_pretrained(\n",
    "    \"stabilityai/stable-diffusion-xl-base-1.0\",\n",
    "    torch_dtype=torch.float16\n",
    ")\n",
    "pipe.to(\"cuda\")\n",
    "pipe.load_lora_weights(\n",
    "    \"lora-trained-xl/\", \n",
    "    weight_name=\"pytorch_lora_weights.safetensors\"\n",
    ")\n",
    "\n",
    "# Load the refiner.\n",
    "refiner = StableDiffusionXLImg2ImgPipeline.from_pretrained(\n",
    "    \"stabilityai/stable-diffusion-xl-refiner-1.0\",\n",
    "    torch_dtype=torch.float16\n",
    ")\n",
    "refiner.to(\"cuda\")\n",
    "\n",
    "prompt = \"a photo of sks dog in a bucket\"\n",
    "\n",
    "for seed in range(4):\n",
    "    generator = torch.Generator(\"cuda\").manual_seed(seed)\n",
    "    image = pipe(prompt=prompt, generator=generator, num_inference_steps=25)\n",
    "    image = image.images[0]\n",
    "    image = refiner(prompt=prompt, generator=generator, image=image)\n",
    "    image = image.images[0]\n",
    "    image.save(f\"sdxl-base-refiner-{seed}.png\")"
   ]
  },
  {
   "cell_type": "code",
   "execution_count": null,
   "metadata": {
    "vscode": {
     "languageId": "shellscript"
    }
   },
   "outputs": [],
   "source": [
    "# After you stop and start the instance again\n",
    "WORKING_DIR=/home/ec2-user/SageMaker\n",
    "mkdir -p \"$WORKING_DIR\"\n",
    "source \"$WORKING_DIR/miniconda/bin/activate\"\n",
    "KERNEL_NAME=\"diffusers\"\n",
    "PYTHON=\"3.10\"\n",
    "conda activate \"$KERNEL_NAME\"\n",
    "pip install --quiet ipykernel"
   ]
  },
  {
   "cell_type": "code",
   "execution_count": null,
   "metadata": {
    "vscode": {
     "languageId": "shellscript"
    }
   },
   "outputs": [],
   "source": [
    "python3 sdxl-lora-inference-base.py"
   ]
  }
 ],
 "metadata": {
  "language_info": {
   "name": "python"
  }
 },
 "nbformat": 4,
 "nbformat_minor": 2
}
