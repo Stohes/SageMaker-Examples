{
 "cells": [
  {
   "cell_type": "code",
   "execution_count": null,
   "id": "981608f4-c943-44d0-ac26-3f9196583513",
   "metadata": {},
   "outputs": [],
   "source": [
    "!df -h"
   ]
  },
  {
   "cell_type": "code",
   "execution_count": 28,
   "id": "0f298782-600a-49af-9f29-5141e96a7834",
   "metadata": {},
   "outputs": [],
   "source": [
    "!pip install torch==2.0.1 --quiet\n",
    "!pip install diffusers==0.30.0 --quiet\n",
    "!pip install transformers==4.44.0 --quiet\n",
    "!pip install accelerate==0.30.0 --quiet\n",
    "!pip install sentencepiece==0.2.0 --quiet\n",
    "!pip install peft==0.7.0 --quiet"
   ]
  },
  {
   "cell_type": "code",
   "execution_count": null,
   "id": "5defcd6c-08a5-48e3-9f3c-21c215e33ef6",
   "metadata": {},
   "outputs": [],
   "source": [
    "import sagemaker\n",
    "import boto3\n",
    "sess = sagemaker.Session()\n",
    "# sagemaker session bucket -> used for uploading data, models and logs\n",
    "# sagemaker will automatically create this bucket if it not exists\n",
    "sagemaker_session_bucket=None\n",
    "if sagemaker_session_bucket is None and sess is not None:\n",
    "    # set to default bucket if a bucket name is not given\n",
    "    sagemaker_session_bucket = sess.default_bucket()\n",
    "\n",
    "try:\n",
    "    role = sagemaker.get_execution_role()\n",
    "except ValueError:\n",
    "    iam = boto3.client(\"iam\")\n",
    "    role = iam.get_role(RoleName=\"sagemaker_execution_role\")[\"Role\"][\"Arn\"]\n",
    "\n",
    "sess = sagemaker.Session(default_bucket=sagemaker_session_bucket)\n",
    "\n",
    "print(f\"sagemaker role arn: {role}\")\n",
    "print(f\"sagemaker bucket: {sess.default_bucket()}\")\n",
    "print(f\"sagemaker session region: {sess.boto_region_name}\")"
   ]
  },
  {
   "cell_type": "code",
   "execution_count": 30,
   "id": "51317321-3444-4744-9f0d-81f03c9567e6",
   "metadata": {},
   "outputs": [],
   "source": [
    "from distutils.dir_util import copy_tree\n",
    "from pathlib import Path\n",
    "\n",
    "HF_MODEL_ID = \"stabilityai/stable-diffusion-xl-base-1.0\"\n",
    "\n",
    "# create model dir\n",
    "model_tar = Path(f\"Model-SDXL\")\n",
    "model_tar.mkdir(exist_ok=True)"
   ]
  },
  {
   "cell_type": "code",
   "execution_count": null,
   "id": "9980e048-1ff0-4ec3-96c0-92edd2fe2f57",
   "metadata": {},
   "outputs": [],
   "source": [
    "from diffusers import DiffusionPipeline\n",
    "import torch\n",
    "\n",
    "pipe = DiffusionPipeline.from_pretrained(\n",
    "    HF_MODEL_ID,\n",
    "    torch_dtype=torch.float16\n",
    ")"
   ]
  },
  {
   "cell_type": "code",
   "execution_count": 35,
   "id": "8df06865-9c7f-4019-aded-3441fbc4c8a7",
   "metadata": {},
   "outputs": [],
   "source": [
    "pipe.save_pretrained(model_tar)"
   ]
  },
  {
   "cell_type": "code",
   "execution_count": null,
   "id": "625ab0fe-0ab3-490d-89e8-7f537e6c21f2",
   "metadata": {},
   "outputs": [],
   "source": [
    "!mkdir code"
   ]
  },
  {
   "cell_type": "code",
   "execution_count": null,
   "id": "6257a7ac-b8b7-42b1-95f8-20a6d488b862",
   "metadata": {},
   "outputs": [],
   "source": [
    "%%writefile code/requirements.txt\n",
    "torch==2.0.1\n",
    "diffusers==0.30.0\n",
    "transformers==4.41.2\n",
    "accelerate==0.30.0\n",
    "sentencepiece==0.2.0\n",
    "peft==0.7.0"
   ]
  },
  {
   "cell_type": "code",
   "execution_count": null,
   "id": "feed2d87-a75a-49b3-a667-bea52ec40800",
   "metadata": {},
   "outputs": [],
   "source": [
    "%%writefile code/inference.py\n",
    "import base64\n",
    "import torch\n",
    "from io import BytesIO\n",
    "from diffusers import DiffusionPipeline\n",
    "\n",
    "\n",
    "def model_fn(model_dir, context=None):\n",
    "    pipe = DiffusionPipeline.from_pretrained(model_dir, torch_dtype=torch.float16)\n",
    "    pipe = pipe.to(\"cuda\")\n",
    "    pipe.load_lora_weights(\n",
    "        \"lora-trained-xl/\", \n",
    "        weight_name=\"pytorch_lora_weights.safetensors\"\n",
    "    )\n",
    "    \n",
    "    return pipe\n",
    "\n",
    "\n",
    "def predict_fn(data, pipe):\n",
    "    # get prompt & parameters\n",
    "    prompt = data.pop(\"inputs\", data)\n",
    "    num_inference_steps = data.pop(\"num_inference_steps\", 1)\n",
    "    guidance_scale = data.pop(\"guidance_scale\", 1.5)\n",
    "    num_images_per_prompt = data.pop(\"num_images_per_prompt\", 1)\n",
    "\n",
    "    # Generate image\n",
    "    generated_images = pipe(\n",
    "        prompt,\n",
    "        num_inference_steps=num_inference_steps,\n",
    "        guidance_scale=guidance_scale,\n",
    "        num_images_per_prompt=num_images_per_prompt,\n",
    "    )[\"images\"]\n",
    "\n",
    "    # create response\n",
    "    encoded_images = []\n",
    "    for image in generated_images:\n",
    "        buffered = BytesIO()\n",
    "        image.save(buffered, format=\"JPEG\")\n",
    "        encoded_images.append(base64.b64encode(buffered.getvalue()).decode())\n",
    "\n",
    "    # create response\n",
    "    return {\"generated_images\": encoded_images}"
   ]
  },
  {
   "cell_type": "code",
   "execution_count": null,
   "id": "e32786dd-7fe9-4c35-9df6-09cc6c3def7b",
   "metadata": {},
   "outputs": [],
   "source": [
    "# copy code/ to model dir\n",
    "copy_tree(\"code/\", str(model_tar.joinpath(\"code\")))"
   ]
  },
  {
   "cell_type": "code",
   "execution_count": null,
   "id": "42e3d7a6-6d3f-4aed-8ab7-d1725e3e2b0e",
   "metadata": {},
   "outputs": [],
   "source": [
    "import tarfile\n",
    "import os\n",
    "from pathlib import Path\n",
    "\n",
    "\n",
    "model_tar = Path(f\"Model-SDXL\")\n",
    "\n",
    "# helper to create the model.tar.gz\n",
    "def compress(tar_dir=None,output_file=\"model.tar.gz\"):\n",
    "    parent_dir=os.getcwd()\n",
    "    os.chdir(tar_dir)\n",
    "    with tarfile.open(os.path.join(parent_dir, output_file), \"w:gz\") as tar:\n",
    "        for item in os.listdir(\".\"):\n",
    "          print(item)\n",
    "          tar.add(item, arcname=item)\n",
    "    os.chdir(parent_dir)\n",
    "\n",
    "compress(str(model_tar))"
   ]
  },
  {
   "cell_type": "code",
   "execution_count": null,
   "id": "d9ab0cf1-d489-45ed-8f81-deeb468e13b6",
   "metadata": {},
   "outputs": [],
   "source": [
    "import sagemaker\n",
    "from sagemaker.s3 import S3Uploader\n",
    "sess = sagemaker.Session()\n",
    "\n",
    "# upload model.tar.gz to s3\n",
    "s3_model_uri = S3Uploader.upload(local_path=\"model.tar.gz\", desired_s3_uri=f\"s3://{sess.default_bucket()}/sdxl-finetuned\")\n",
    "\n",
    "print(f\"model uploaded to: {s3_model_uri}\")"
   ]
  },
  {
   "cell_type": "code",
   "execution_count": 42,
   "id": "b8800422-7037-4178-8bb6-b3e2a494f0fa",
   "metadata": {},
   "outputs": [],
   "source": [
    "import sagemaker\n",
    "from sagemaker.huggingface.model import HuggingFaceModel\n",
    "\n",
    "\n",
    "# create Hugging Face Model Class\n",
    "huggingface_model = HuggingFaceModel(\n",
    "   model_data=s3_model_uri,\n",
    "   role=sagemaker.get_execution_role(),\n",
    "   transformers_version=\"4.37.0\",\n",
    "   pytorch_version=\"2.1.0\",\n",
    "   py_version=\"py310\",\n",
    ")"
   ]
  },
  {
   "cell_type": "code",
   "execution_count": null,
   "id": "c68bbc23-bb90-4454-b083-0a23a295f969",
   "metadata": {},
   "outputs": [],
   "source": [
    "# deploy the endpoint endpoint\n",
    "predictor = huggingface_model.deploy(\n",
    "    initial_instance_count=1,\n",
    "    instance_type=\"ml.g5.2xlarge\"\n",
    ")"
   ]
  },
  {
   "cell_type": "code",
   "execution_count": 44,
   "id": "4096e0d8-55be-44d3-afce-c90ffd823323",
   "metadata": {},
   "outputs": [],
   "source": [
    "from PIL import Image\n",
    "from io import BytesIO\n",
    "from IPython.display import display\n",
    "import base64\n",
    "import matplotlib.pyplot as plt\n",
    "\n",
    "# helper decoder\n",
    "def decode_base64_image(image_string):\n",
    "  base64_image = base64.b64decode(image_string)\n",
    "  buffer = BytesIO(base64_image)\n",
    "  return Image.open(buffer)\n",
    "\n",
    "# display PIL images as grid\n",
    "def display_images(images=None,columns=3, width=100, height=100):\n",
    "    plt.figure(figsize=(width, height))\n",
    "    for i, image in enumerate(images):\n",
    "        plt.subplot(int(len(images) / columns + 1), columns, i + 1)\n",
    "        plt.axis(\"off\")\n",
    "        plt.imshow(image)"
   ]
  },
  {
   "cell_type": "code",
   "execution_count": null,
   "id": "42a69fc8-f77e-4f26-adca-bbd33c2ba411",
   "metadata": {},
   "outputs": [],
   "source": [
    "prompt = \"a photo of sks dog in a bucket\"\n",
    "\n",
    "# run prediction\n",
    "response = predictor.predict(data={\n",
    "    \"inputs\": prompt,\n",
    "    \"num_images_per_prompt\": 3,\n",
    "    \"num_inference_steps\": 50\n",
    "    }\n",
    ")\n",
    "\n",
    "# decode images\n",
    "decoded_images = [decode_base64_image(image) for image in response[\"generated_images\"]]\n",
    "\n",
    "# visualize generation\n",
    "display_images(decoded_images)"
   ]
  },
  {
   "cell_type": "code",
   "execution_count": 48,
   "id": "398bcfb5-a9ee-443a-a3ce-a54d5cebba72",
   "metadata": {},
   "outputs": [],
   "source": [
    "predictor.delete_model()\n",
    "predictor.delete_endpoint()"
   ]
  }
 ],
 "metadata": {
  "kernelspec": {
   "display_name": "conda_python3",
   "language": "python",
   "name": "conda_python3"
  },
  "language_info": {
   "codemirror_mode": {
    "name": "ipython",
    "version": 3
   },
   "file_extension": ".py",
   "mimetype": "text/x-python",
   "name": "python",
   "nbconvert_exporter": "python",
   "pygments_lexer": "ipython3",
   "version": "3.10.15"
  }
 },
 "nbformat": 4,
 "nbformat_minor": 5
}
